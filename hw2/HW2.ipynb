{
 "cells": [
  {
   "cell_type": "code",
   "execution_count": 1,
   "metadata": {},
   "outputs": [
    {
     "name": "stdout",
     "output_type": "stream",
     "text": [
      "Training Accuracy is : 0.9313666666666667\n",
      "Testing Accuracy is : 0.9387\n"
     ]
    }
   ],
   "source": [
    "import numpy as np\n",
    "import pandas as pd\n",
    "import h5py\n",
    "mnist = h5py.File('MNISTdata_1.hdf5','r')\n",
    "list(mnist.keys())\n",
    "trn_x,trn_y = np.array(mnist[\"x_train\"][:]),np.array(mnist[\"y_train\"][:])\n",
    "tst_x,tst_y = np.array(mnist[\"x_test\"][:]),np.array(mnist[\"y_test\"][:])\n",
    "def softmax(x):\n",
    "    return np.divide(np.exp(x),np.sum(np.exp(x),axis=0))\n",
    "# ReLU function\n",
    "def ReLU(x):\n",
    "    return np.maximum(0,x)\n",
    "# ReLU prime\n",
    "def ReLU_p(x):\n",
    "    x[x<=0] = 0\n",
    "    x[x>0] = 1\n",
    "    return x\n",
    "\n",
    "#size of input layer\n",
    "d0 = np.intc(np.sqrt(np.shape(trn_x)[1]))\n",
    "#size of filter\n",
    "ky = kx = 5\n",
    "#number of channels\n",
    "v = 32\n",
    "#size of hidden layer\n",
    "dhy = dhx = d0-ky+1\n",
    "#size of output layer\n",
    "c = 10\n",
    "\n",
    "#input layer transformation\n",
    "def input_trans(x,y):\n",
    "    #x is the original input\n",
    "    #y is size of filter\n",
    "    #a is number of filter on each side of input\n",
    "    #z is the transformed input\n",
    "    a = np.shape(x)[0]-y+1\n",
    "    z = np.zeros(shape=(y**2,a**2))\n",
    "    for j in range(a):\n",
    "        for i in range(a):\n",
    "            z[:,a*j+i] = np.reshape(x[i:i+y,j:j+y].T,y**2)\n",
    "    return z\n",
    "\n",
    "#mean pooling function\n",
    "def meanpool(x,m,n):\n",
    "    a,b = np.shape(x)[0],np.shape(x)[1]\n",
    "    y = np.zeros(shape=(a//m,b//n))\n",
    "    for i in range(0,a,m):\n",
    "        for j in range(0,b,n):\n",
    "            y[i//m,j//n] = np.mean(x[i:i+m,j:j+n])\n",
    "    return y\n",
    "#backward mean pooling\n",
    "def backpool(x,m,n):\n",
    "    a,b = np.shape(x)[0],np.shape(x)[1]\n",
    "    y = np.zeros(shape=(a*m,b*n))\n",
    "    for i in range(0,a):\n",
    "        for j in range(0,b):\n",
    "            y[i*m:(i+1)*m,j*n:(j+1)*n] = np.mean(x[i,j])       \n",
    "    return y\n",
    "    \n",
    "\n",
    "#initialize the parameters\n",
    "np.random.seed(11)\n",
    "k = np.random.normal(0,1/d0,size=(v,ky*kx))\n",
    "w = np.random.normal(0,2/dhy,size=(c,v,dhy//2,dhx//2))\n",
    "b = np.zeros(shape=(c,1))\n",
    "alpha = 0.01\n",
    "\n",
    "for l in range(20000):\n",
    "    #forward\n",
    "    #randomly select the index\n",
    "    i = np.random.choice(trn_x.shape[0],size=1,replace=False)\n",
    "    x0 = np.reshape(trn_x[[i]],(d0,d0))\n",
    "    x = input_trans(x0,ky)\n",
    "    #dropout\n",
    "    #k = np.multiply(k,np.random.binomial(1,.9,size=(v,ky*kx)))\n",
    "    z = np.matmul(k,x)\n",
    "    #mean pooling\n",
    "    zp = np.ones(shape=(v,dhy//2,dhx//2))\n",
    "    for j in range(v):\n",
    "        zp[j,:,:] = meanpool(np.reshape(z[j,:],(dhy,dhx)),2,2)\n",
    "    h = ReLU(zp)\n",
    "    u = np.add(np.reshape(np.einsum('ijkl,jkl->i',w,h),(c,1)),b)\n",
    "    #rho = -np.log(softmax(u))\n",
    "    \n",
    "    #backward\n",
    "    #define true y\n",
    "    y = np.zeros(shape=(c,1))\n",
    "    y[[trn_y[i]]] = 1\n",
    "    # partial derivative of rho on u\n",
    "    rho_p = -np.subtract(y,softmax(u))\n",
    "    delta = np.reshape(np.einsum('im,ijkl->mjkl',rho_p,w),(v,dhy//2,dhx//2))\n",
    "    #update parameters\n",
    "    b = np.subtract(b,alpha*rho_p)\n",
    "    w = np.subtract(w,alpha*np.einsum('lm,ijk->lijk',rho_p,h))\n",
    "    #backpool\n",
    "    dot = np.multiply(ReLU_p(zp),delta)\n",
    "    kp = np.ones(shape=(v,dhy,dhx))\n",
    "    for n in range(v):\n",
    "        kp[n,:,:] = backpool(np.reshape(dot[n,:,:],(dhy//2,dhx//2)),2,2)\n",
    "    kp = np.einsum('ijk->ij',np.reshape(kp,(v,dhy*dhx,1)))\n",
    "    xb = input_trans(x0,dhy)\n",
    "    k = np.subtract(k,alpha*np.matmul(kp,xb))\n",
    "\n",
    "p1 = 0\n",
    "n1 = trn_y.shape[0]\n",
    "for m1 in range(n1):\n",
    "    x01 = np.reshape(trn_x[[m1]],(d0,d0))\n",
    "    x1 = input_trans(x01,ky)\n",
    "    z_pred1 = np.matmul(k,x1)\n",
    "    zp_pred1 = np.ones(shape=(v,dhy//2,dhx//2))\n",
    "    for j in range(v):\n",
    "        zp_pred1[j,:,:] = meanpool(np.reshape(z_pred1[j,:],(dhy,dhx)),2,2)\n",
    "    h_pred1 = ReLU(zp_pred1)\n",
    "    u_pred1 = np.add(np.reshape(np.einsum('ijkl,jkl->i',w,h_pred1),(c,1)),b)\n",
    "    s_pred1 = softmax(u_pred1)\n",
    "    y_pred1 = np.where(s_pred1==np.amax(s_pred1))[0]\n",
    "    if y_pred1 == trn_y[m1]:\n",
    "        p1 += 1\n",
    "print('Training Accuracy is :',p1/n1)\n",
    "\n",
    "p2 = 0\n",
    "n2 = tst_y.shape[0]\n",
    "for m2 in range(n2):\n",
    "    x02 = np.reshape(tst_x[[m2]],(d0,d0))\n",
    "    x2 = input_trans(x02,ky)\n",
    "    z_pred2 = np.matmul(k,x2)   \n",
    "    zp_pred2 = np.ones(shape=(v,dhy//2,dhx//2))\n",
    "    for j in range(v):\n",
    "        zp_pred2[j,:,:] = meanpool(np.reshape(z_pred2[j,:],(dhy,dhx)),2,2)\n",
    "    h_pred2 = ReLU(zp_pred2)\n",
    "    u_pred2 = np.add(np.reshape(np.einsum('ijkl,jkl->i',w,h_pred2),(c,1)),b)\n",
    "    s_pred2 = softmax(u_pred2)\n",
    "    y_pred2 = np.where(s_pred2==np.amax(s_pred2))[0]\n",
    "    if y_pred2 == tst_y[m2]:\n",
    "        p2 += 1\n",
    "print('Testing Accuracy is :',p2/n2)"
   ]
  },
  {
   "cell_type": "code",
   "execution_count": null,
   "metadata": {
    "collapsed": true
   },
   "outputs": [],
   "source": []
  },
  {
   "cell_type": "code",
   "execution_count": null,
   "metadata": {
    "collapsed": true
   },
   "outputs": [],
   "source": []
  },
  {
   "cell_type": "code",
   "execution_count": 18,
   "metadata": {},
   "outputs": [
    {
     "name": "stdout",
     "output_type": "stream",
     "text": [
      "Training Accuracy is : 0.9544666666666667\n",
      "Testing Accuracy is : 0.9572\n"
     ]
    }
   ],
   "source": [
    "#newk = np.multiply(k,.9*np.ones(shape=(v,ky*kx)))\n",
    "p1 = 0\n",
    "n1 = trn_y.shape[0]\n",
    "for m1 in range(n1):\n",
    "    x01 = np.reshape(trn_x[[m1]],(d0,d0))\n",
    "    x1 = input_trans(x01,ky)\n",
    "    z_pred1 = np.matmul(k,x1)\n",
    "    zp_pred1 = np.ones(shape=(v,dhy//2,dhx//2))\n",
    "    for j in range(v):\n",
    "        zp_pred1[j,:,:] = meanpool(np.reshape(z_pred1[j,:],(dhy,dhx)),2,2)\n",
    "    h_pred1 = ReLU(zp_pred1)\n",
    "    u_pred1 = np.add(np.reshape(np.einsum('ijkl,jkl->i',w,h_pred1),(c,1)),b)\n",
    "    s_pred1 = softmax(u_pred1)\n",
    "    y_pred1 = np.where(s_pred1==np.amax(s_pred1))[0]\n",
    "    if y_pred1 == trn_y[m1]:\n",
    "        p1 += 1\n",
    "print('Training Accuracy is :',p1/n1)\n",
    "\n",
    "p2 = 0\n",
    "n2 = tst_y.shape[0]\n",
    "for m2 in range(n2):\n",
    "    x02 = np.reshape(tst_x[[m2]],(d0,d0))\n",
    "    x2 = input_trans(x02,ky)\n",
    "    z_pred2 = np.matmul(k,x2)   \n",
    "    zp_pred2 = np.ones(shape=(v,dhy//2,dhx//2))\n",
    "    for j in range(v):\n",
    "        zp_pred2[j,:,:] = meanpool(np.reshape(z_pred2[j,:],(dhy,dhx)),2,2)\n",
    "    h_pred2 = ReLU(zp_pred2)\n",
    "    u_pred2 = np.add(np.reshape(np.einsum('ijkl,jkl->i',w,h_pred2),(c,1)),b)\n",
    "    s_pred2 = softmax(u_pred2)\n",
    "    y_pred2 = np.where(s_pred2==np.amax(s_pred2))[0]\n",
    "    if y_pred2 == tst_y[m2]:\n",
    "        p2 += 1\n",
    "print('Testing Accuracy is :',p2/n2)"
   ]
  },
  {
   "cell_type": "code",
   "execution_count": null,
   "metadata": {
    "collapsed": true
   },
   "outputs": [],
   "source": []
  },
  {
   "cell_type": "code",
   "execution_count": null,
   "metadata": {
    "collapsed": true
   },
   "outputs": [],
   "source": []
  },
  {
   "cell_type": "code",
   "execution_count": null,
   "metadata": {
    "collapsed": true
   },
   "outputs": [],
   "source": []
  }
 ],
 "metadata": {
  "kernelspec": {
   "display_name": "Python 3",
   "language": "python",
   "name": "python3"
  },
  "language_info": {
   "codemirror_mode": {
    "name": "ipython",
    "version": 3
   },
   "file_extension": ".py",
   "mimetype": "text/x-python",
   "name": "python",
   "nbconvert_exporter": "python",
   "pygments_lexer": "ipython3",
   "version": "3.6.3"
  },
  "widgets": {
   "application/vnd.jupyter.widget-state+json": {
    "state": {},
    "version_major": 2,
    "version_minor": 0
   }
  }
 },
 "nbformat": 4,
 "nbformat_minor": 2
}
